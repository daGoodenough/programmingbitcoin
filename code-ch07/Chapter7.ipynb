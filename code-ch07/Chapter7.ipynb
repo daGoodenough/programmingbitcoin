{
 "cells": [
  {
   "cell_type": "code",
   "execution_count": 1,
   "metadata": {},
   "outputs": [],
   "source": [
    "############## PLEASE RUN THIS CELL FIRST! ###################\n",
    "\n",
    "# import everything and define a test runner function\n",
    "from importlib import reload\n",
    "from helper import run\n",
    "import ecc\n",
    "import helper\n",
    "import tx\n",
    "import script"
   ]
  },
  {
   "cell_type": "code",
   "execution_count": 2,
   "metadata": {},
   "outputs": [
    {
     "name": "stdout",
     "output_type": "stream",
     "text": [
      "True\n"
     ]
    }
   ],
   "source": [
    "from tx import Tx\n",
    "from io import BytesIO\n",
    "raw_tx = ('0100000001813f79011acb80925dfe69b3def355fe914bd1d96a3f5f71bf8303c6a989c7d1000000006b483045022100ed81ff192e75a3fd2304004dcadb746fa5e24c5031ccfcf21320b0277457c98f02207a986d955c6e0cb35d446a89d3f56100f4d7f67801c31967743a9c8e10615bed01210349fc4e631e3624a545de3f89f5d8684c7b8138bd94bdd531d2e213bf016b278afeffffff02a135ef01000000001976a914bc3b654dca7e56b04dca18f2566cdaf02e8d9ada88ac99c39800000000001976a9141c4bc762dd5423e332166702cb75f40df79fea1288ac19430600')\n",
    "stream = BytesIO(bytes.fromhex(raw_tx))\n",
    "transaction = Tx.parse(stream)\n",
    "print(transaction.fee() >= 0)"
   ]
  },
  {
   "cell_type": "code",
   "execution_count": 3,
   "metadata": {},
   "outputs": [
    {
     "name": "stdout",
     "output_type": "stream",
     "text": [
      "True\n"
     ]
    }
   ],
   "source": [
    "from ecc import S256Point, Signature\n",
    "sec = bytes.fromhex('0349fc4e631e3624a545de3f89f5d8684c7b8138bd94bdd531d2e213bf016b278a')\n",
    "der = bytes.fromhex('3045022100ed81ff192e75a3fd2304004dcadb746fa5e24c5031ccfcf21320b0277457c98f02207a986d955c6e0cb35d446a89d3f56100f4d7f67801c31967743a9c8e10615bed')\n",
    "z = 0x27e0c5994dec7824e56dec6b2fcb342eb7cdb0d0957c2fce9882f715e85d81a6\n",
    "point = S256Point.parse(sec)\n",
    "signature = Signature.parse(der)\n",
    "print(point.verify(z, signature))"
   ]
  },
  {
   "cell_type": "code",
   "execution_count": 4,
   "metadata": {},
   "outputs": [
    {
     "name": "stdout",
     "output_type": "stream",
     "text": [
      "0x27e0c5994dec7824e56dec6b2fcb342eb7cdb0d0957c2fce9882f715e85d81a6\n"
     ]
    }
   ],
   "source": [
    "from helper import hash256\n",
    "modified_tx = bytes.fromhex('0100000001813f79011acb80925dfe69b3def355fe914bd1d96a3f5f71bf8303c6a989c7d1000000001976a914a802fc56c704ce87c42d7c92eb75e7896bdc41ae88acfeffffff02a135ef01000000001976a914bc3b654dca7e56b04dca18f2566cdaf02e8d9ada88ac99c39800000000001976a9141c4bc762dd5423e332166702cb75f40df79fea1288ac1943060001000000')\n",
    "h256 = hash256(modified_tx)\n",
    "z = int.from_bytes(h256, 'big')\n",
    "print(hex(z))"
   ]
  },
  {
   "cell_type": "code",
   "execution_count": 5,
   "metadata": {},
   "outputs": [
    {
     "data": {
      "text/plain": [
       "True"
      ]
     },
     "execution_count": 5,
     "metadata": {},
     "output_type": "execute_result"
    }
   ],
   "source": [
    "from ecc import S256Point, Signature\n",
    "sec = bytes.fromhex('0349fc4e631e3624a545de3f89f5d8684c7b8138bd94bdd531d2e213bf016b278a')\n",
    "der = bytes.fromhex('3045022100ed81ff192e75a3fd2304004dcadb746fa5e24c5031ccfcf21320b0277457c98f02207a986d955c6e0cb35d446a89d3f56100f4d7f67801c31967743a9c8e10615bed')\n",
    "z = 0x27e0c5994dec7824e56dec6b2fcb342eb7cdb0d0957c2fce9882f715e85d81a6\n",
    "point = S256Point.parse(sec)\n",
    "signature = Signature.parse(der)\n",
    "point.verify(z, signature)"
   ]
  },
  {
   "cell_type": "markdown",
   "metadata": {},
   "source": [
    "### Exercise 1\n",
    "\n",
    "Write the `sig_hash` method for the `Tx` class.\n",
    "\n",
    "#### Make [this test](/edit/code-ch07/tx.py) pass: `tx.py:TxTest:test_sig_hash`"
   ]
  },
  {
   "cell_type": "code",
   "execution_count": 10,
   "metadata": {},
   "outputs": [
    {
     "name": "stderr",
     "output_type": "stream",
     "text": [
      ".\n",
      "----------------------------------------------------------------------\n",
      "Ran 1 test in 0.004s\n",
      "\n",
      "OK\n"
     ]
    }
   ],
   "source": [
    "# Exercise 1\n",
    "\n",
    "reload(tx)\n",
    "run(tx.TxTest(\"test_sig_hash\"))"
   ]
  },
  {
   "cell_type": "markdown",
   "metadata": {},
   "source": [
    "### Exercise 2\n",
    "\n",
    "Write the `verify_input` method for the `Tx` class. You will want to use the `TxIn.script_pubkey()`, `Tx.sig_hash()` and `Script.evaluate()` methods.\n",
    "\n",
    "#### Make [this test](/edit/code-ch07/tx.py) pass: `tx.py:TxTest:test_verify_p2pkh`"
   ]
  },
  {
   "cell_type": "code",
   "execution_count": 11,
   "metadata": {},
   "outputs": [
    {
     "name": "stderr",
     "output_type": "stream",
     "text": [
      ".\n",
      "----------------------------------------------------------------------\n",
      "Ran 1 test in 0.432s\n",
      "\n",
      "OK\n"
     ]
    }
   ],
   "source": [
    "# Exercise 2\n",
    "\n",
    "reload(tx)\n",
    "run(tx.TxTest(\"test_verify_p2pkh\"))"
   ]
  },
  {
   "cell_type": "code",
   "execution_count": 12,
   "metadata": {},
   "outputs": [
    {
     "name": "stdout",
     "output_type": "stream",
     "text": [
      "tx: cd30a8da777d28ef0e61efe68a9f7c559c1d3e5bcd7b265c850ccb4068598d11\n",
      "version: 1\n",
      "tx_ins:\n",
      "0d6fe5213c0b3291f208cba8bfb59b7476dffacc4e5cb66f6eb20a080843a299:13\n",
      "tx_outs:\n",
      "33000000:OP_DUP OP_HASH160 d52ad7ca9b3d096a38e752c2018e6fbc40cdf26f OP_EQUALVERIFY OP_CHECKSIG\n",
      "10000000:OP_DUP OP_HASH160 507b27411ccf7f16f10297de6cef3f291623eddf OP_EQUALVERIFY OP_CHECKSIG\n",
      "locktime: 0\n"
     ]
    }
   ],
   "source": [
    "from helper import decode_base58, SIGHASH_ALL\n",
    "from script import p2pkh_script, Script\n",
    "from tx import TxIn, TxOut, Tx\n",
    "prev_tx = bytes.fromhex('0d6fe5213c0b3291f208cba8bfb59b7476dffacc4e5cb66f6eb20a080843a299')\n",
    "prev_index = 13\n",
    "tx_in = TxIn(prev_tx, prev_index)\n",
    "tx_outs = []\n",
    "change_amount = int(0.33*100000000)\n",
    "change_h160 = decode_base58('mzx5YhAH9kNHtcN481u6WkjeHjYtVeKVh2')\n",
    "change_script = p2pkh_script(change_h160)\n",
    "change_output = TxOut(amount=change_amount, script_pubkey=change_script)\n",
    "target_amount = int(0.1*100000000)\n",
    "target_h160 = decode_base58('mnrVtF8DWjMu839VW3rBfgYaAfKk8983Xf')\n",
    "target_script = p2pkh_script(target_h160)\n",
    "target_output = TxOut(amount=target_amount, script_pubkey=target_script)\n",
    "tx_obj = Tx(1, [tx_in], [change_output, target_output], 0, True)\n",
    "print(tx_obj)"
   ]
  },
  {
   "cell_type": "code",
   "execution_count": 3,
   "metadata": {},
   "outputs": [
    {
     "ename": "NameError",
     "evalue": "name 'tx_obj' is not defined",
     "output_type": "error",
     "traceback": [
      "\u001b[0;31m---------------------------------------------------------------------------\u001b[0m",
      "\u001b[0;31mNameError\u001b[0m                                 Traceback (most recent call last)",
      "Cell \u001b[0;32mIn[3], line 3\u001b[0m\n\u001b[1;32m      1\u001b[0m \u001b[38;5;28;01mfrom\u001b[39;00m \u001b[38;5;21;01mecc\u001b[39;00m \u001b[38;5;28;01mimport\u001b[39;00m PrivateKey\n\u001b[1;32m      2\u001b[0m \u001b[38;5;28;01mfrom\u001b[39;00m \u001b[38;5;21;01mhelper\u001b[39;00m \u001b[38;5;28;01mimport\u001b[39;00m SIGHASH_ALL\n\u001b[0;32m----> 3\u001b[0m z \u001b[38;5;241m=\u001b[39m \u001b[43mtx_obj\u001b[49m\u001b[38;5;241m.\u001b[39msig_hash(\u001b[38;5;241m0\u001b[39m)\n\u001b[1;32m      4\u001b[0m private_key \u001b[38;5;241m=\u001b[39m PrivateKey(secret\u001b[38;5;241m=\u001b[39m\u001b[38;5;241m8675309\u001b[39m)\n\u001b[1;32m      5\u001b[0m der \u001b[38;5;241m=\u001b[39m private_key\u001b[38;5;241m.\u001b[39msign(z)\u001b[38;5;241m.\u001b[39mder()\n",
      "\u001b[0;31mNameError\u001b[0m: name 'tx_obj' is not defined"
     ]
    }
   ],
   "source": [
    "from ecc import PrivateKey\n",
    "from helper import SIGHASH_ALL\n",
    "z = transaction.sig_hash(0)\n",
    "private_key = PrivateKey(secret=8675309)\n",
    "der = private_key.sign(z).der()\n",
    "sig = der + SIGHASH_ALL.to_bytes(1, 'big')\n",
    "sec = private_key.point.sec()\n",
    "script_sig = Script([sig, sec])\n",
    "transaction.tx_ins[0].script_sig = script_sig \n",
    "print(transaction.serialize().hex())"
   ]
  },
  {
   "cell_type": "code",
   "execution_count": 4,
   "metadata": {},
   "outputs": [
    {
     "name": "stdout",
     "output_type": "stream",
     "text": [
      "mn81594PzKZa9K3Jyy1ushpuEzrnTnxhVg\n"
     ]
    }
   ],
   "source": [
    "from ecc import PrivateKey\n",
    "from helper import hash256, little_endian_to_int\n",
    "secret = little_endian_to_int(hash256(b'Jimmy Song secret'))\n",
    "private_key = PrivateKey(secret)\n",
    "print(private_key.point.address(testnet=True))"
   ]
  },
  {
   "cell_type": "markdown",
   "metadata": {},
   "source": [
    "### Exercise 3\n",
    "\n",
    "Write the `sign_input` method for the `Tx` class.\n",
    "\n",
    "#### Make [this test](/edit/code-ch07/tx.py) pass: `tx.py:TxTest:test_sign_input`"
   ]
  },
  {
   "cell_type": "code",
   "execution_count": 6,
   "metadata": {},
   "outputs": [
    {
     "name": "stderr",
     "output_type": "stream",
     "text": [
      ".\n",
      "----------------------------------------------------------------------\n",
      "Ran 1 test in 0.405s\n",
      "\n",
      "OK\n"
     ]
    }
   ],
   "source": [
    "# Exercise 3\n",
    "\n",
    "reload(tx)\n",
    "run(tx.TxTest(\"test_sign_input\"))"
   ]
  },
  {
   "cell_type": "markdown",
   "metadata": {},
   "source": [
    "### Exercise 4\n",
    "\n",
    "Create a testnet transaction that sends 60% of a single UTXO to `mwJn1YPMq7y5F8J3LkC5Hxg9PHyZ5K4cFv`. The remaining amount minus fees should go back to your own change address. This should be a 1 input, 2 output transaction.\n",
    "\n",
    "You can broadcast the transaction at https://testnet.blockchain.info/pushtx"
   ]
  },
  {
   "cell_type": "code",
   "execution_count": 28,
   "metadata": {},
   "outputs": [
    {
     "name": "stdout",
     "output_type": "stream",
     "text": [
      "mxArJRycrcJTYmPfMWLsRjbKM6Rmupw3zo\n",
      "0100000001ed3c41ac43b0631c08febe54f5c306e3fae40b6f56e75448c65e5eb3bd2c0d35000000006a4730440220548a5cefecc5e2734615c1f4b2e324494c787cedd8f7a54c376523f3a1b80a5302200c20e2916108c71422b060986126e5caf3c1964c2a2a1d2d0ed0aaf71516240f01210275aac479f4b88c244c35f88a98fdd7eb863ce15745031ba626b3f661ecf129cdffffffff02cd522300000000001976a914ad346f8eb57dee9a37981716e498120ae80e44f788acb9841700000000001976a914b6acd0e394fb08da569d1dc373ebdcd750f0ddd788ac00000000\n"
     ]
    }
   ],
   "source": [
    "# Exercise 4\n",
    "\n",
    "from ecc import PrivateKey\n",
    "from helper import decode_base58, SIGHASH_ALL\n",
    "from script import p2pkh_script, Script\n",
    "from tx import TxIn, TxOut, Tx, TxFetcher\n",
    "\n",
    "# create 1 TxIn and 2 TxOuts\n",
    "# 1 of the TxOuts should be back to your address\n",
    "# the other TxOut should be to this address\n",
    "target_address = 'mwJn1YPMq7y5F8J3LkC5Hxg9PHyZ5K4cFv'\n",
    "\n",
    "\n",
    "# get the private key from the exercise in Chapter 4\n",
    "pk = PrivateKey(secret=little_endian_to_int(hash256(b\"dgoodenough@proton.mePieisepic1!\")))\n",
    "# change address should be the address generated from Chapter 4\n",
    "change_addr = pk.point.address(testnet=True)\n",
    "print(change_addr)\n",
    "# get the prev_tx and prev_index from the transaction where you got\n",
    "# some testnet coins\n",
    "prev_tx = bytes.fromhex('350d2cbdb35e5ec64854e7566f0be4fae306c3f554befe081c63b043ac413ced')\n",
    "prev_index = 0\n",
    "# create a transaction input for the previous transaction with\n",
    "# the default ScriptSig and sequence\n",
    "tx_in = TxIn(prev_tx, prev_index)\n",
    "\n",
    "# target amount should be 60% of the output amount\n",
    "prev_amount = TxFetcher.fetch('350d2cbdb35e5ec64854e7566f0be4fae306c3f554befe081c63b043ac413ced', True, False).tx_outs[0].amount\n",
    "\n",
    "target_amount = int(prev_amount * 0.6)\n",
    "\n",
    "# set the fee to some reasonable amount\n",
    "# change amount = amount from the prev tx - target amount - fee\n",
    "fee = 2000\n",
    "\n",
    "change_amount = int(prev_amount - target_amount - fee)\n",
    "\n",
    "# create a transaction output for the target amount and address\n",
    "target_h160 = decode_base58(target_address)\n",
    "target_tx_out = TxOut(target_amount, p2pkh_script(target_h160))\n",
    "\n",
    "\n",
    "\n",
    "# create a transaction output for the change amount and address\n",
    "change_h160 = decode_base58(change_addr)\n",
    "change_tx_out = TxOut(change_amount, p2pkh_script(change_h160))\n",
    "# create the transaction object\n",
    "\n",
    "tx = Tx(1, [tx_in], [target_tx_out, change_tx_out], 0, testnet=True)\n",
    "tx.sign_input(0, pk)\n",
    "print(tx.serialize().hex())\n",
    "\n",
    "# sign the one input in the transaction object using the private key\n",
    "# print the transaction's serialization in hex\n",
    "# broadcast at http://testnet.blockchain.info/pushtx"
   ]
  },
  {
   "cell_type": "markdown",
   "metadata": {},
   "source": [
    "### Exercise 5\n",
    "\n",
    "Advanced: get some more testnet coins from a testnet faucet and create a 2 input, 1 output transaction. 1 input should be from the faucet, the other should be from the previous exercise, the output can be your own address.\n",
    "\n",
    "You can broadcast the transaction at https://testnet.blockchain.info/pushtx"
   ]
  },
  {
   "cell_type": "code",
   "execution_count": 42,
   "metadata": {},
   "outputs": [
    {
     "name": "stdout",
     "output_type": "stream",
     "text": [
      "tx: 5ad019642c23ef1d18467ce858d1a3d43993efee51b63a2101b6b610788d2010\n",
      "version: 2\n",
      "tx_ins:\n",
      "ad2a8faf90022c29bc15acf9740449aa3e27ecdee992b9ede0c12cc67646c794:0\n",
      "tx_outs:\n",
      "939394929:OP_DUP OP_HASH160 f4acdfe31b074647b24282d4949713b9bf714944 OP_EQUALVERIFY OP_CHECKSIG\n",
      "1558801:OP_DUP OP_HASH160 b6acd0e394fb08da569d1dc373ebdcd750f0ddd7 OP_EQUALVERIFY OP_CHECKSIG\n",
      "locktime: 2424902\n"
     ]
    },
    {
     "ename": "AttributeError",
     "evalue": "'Tx' object has no attribute 'hex'",
     "output_type": "error",
     "traceback": [
      "\u001b[0;31m---------------------------------------------------------------------------\u001b[0m",
      "\u001b[0;31mAttributeError\u001b[0m                            Traceback (most recent call last)",
      "Cell \u001b[0;32mIn[42], line 46\u001b[0m\n\u001b[1;32m     43\u001b[0m tx \u001b[38;5;241m=\u001b[39m Tx(\u001b[38;5;241m1\u001b[39m, tx_ins, tx_outs, \u001b[38;5;241m0\u001b[39m, testnet\u001b[38;5;241m=\u001b[39m\u001b[38;5;28;01mTrue\u001b[39;00m)\n\u001b[1;32m     45\u001b[0m \u001b[38;5;28;01mfor\u001b[39;00m i, tx_in \u001b[38;5;129;01min\u001b[39;00m \u001b[38;5;28menumerate\u001b[39m(tx_ins):\n\u001b[0;32m---> 46\u001b[0m     \u001b[43mtx\u001b[49m\u001b[38;5;241;43m.\u001b[39;49m\u001b[43msign_input\u001b[49m\u001b[43m(\u001b[49m\u001b[43mi\u001b[49m\u001b[43m,\u001b[49m\u001b[43m \u001b[49m\u001b[43mpk\u001b[49m\u001b[43m)\u001b[49m\n\u001b[1;32m     48\u001b[0m \u001b[38;5;28mprint\u001b[39m(tx\u001b[38;5;241m.\u001b[39mverify())\n\u001b[1;32m     49\u001b[0m \u001b[38;5;28mprint\u001b[39m(tx)\n",
      "File \u001b[0;32m~/programmingbitcoin/code-ch07/tx.py:230\u001b[0m, in \u001b[0;36mTx.sign_input\u001b[0;34m(self, input_index, private_key)\u001b[0m\n\u001b[1;32m    228\u001b[0m \u001b[38;5;28;01mdef\u001b[39;00m \u001b[38;5;21msign_input\u001b[39m(\u001b[38;5;28mself\u001b[39m, input_index, private_key):\n\u001b[1;32m    229\u001b[0m     \u001b[38;5;66;03m# get the signature hash (z)\u001b[39;00m\n\u001b[0;32m--> 230\u001b[0m     z \u001b[38;5;241m=\u001b[39m \u001b[38;5;28;43mself\u001b[39;49m\u001b[38;5;241;43m.\u001b[39;49m\u001b[43msig_hash\u001b[49m\u001b[43m(\u001b[49m\u001b[43minput_index\u001b[49m\u001b[43m)\u001b[49m\n\u001b[1;32m    231\u001b[0m     \u001b[38;5;66;03m# get der signature of z from private key\u001b[39;00m\n\u001b[1;32m    232\u001b[0m     der \u001b[38;5;241m=\u001b[39m private_key\u001b[38;5;241m.\u001b[39msign(z)\u001b[38;5;241m.\u001b[39mder()\n",
      "File \u001b[0;32m~/programmingbitcoin/code-ch07/tx.py:179\u001b[0m, in \u001b[0;36mTx.sig_hash\u001b[0;34m(self, input_index)\u001b[0m\n\u001b[1;32m    172\u001b[0m \u001b[38;5;28;01mfor\u001b[39;00m i, tx_in \u001b[38;5;129;01min\u001b[39;00m \u001b[38;5;28menumerate\u001b[39m(\u001b[38;5;28mself\u001b[39m\u001b[38;5;241m.\u001b[39mtx_ins):\n\u001b[1;32m    173\u001b[0m     \u001b[38;5;66;03m# if the input index is the one we're signing\u001b[39;00m\n\u001b[1;32m    174\u001b[0m     \u001b[38;5;28;01mif\u001b[39;00m i \u001b[38;5;241m==\u001b[39m input_index:\n\u001b[1;32m    175\u001b[0m         sig \u001b[38;5;241m+\u001b[39m\u001b[38;5;241m=\u001b[39m TxIn(\n\u001b[1;32m    176\u001b[0m             prev_tx\u001b[38;5;241m=\u001b[39mtx_in\u001b[38;5;241m.\u001b[39mprev_tx,\n\u001b[1;32m    177\u001b[0m             prev_index\u001b[38;5;241m=\u001b[39mtx_in\u001b[38;5;241m.\u001b[39mprev_index,\n\u001b[1;32m    178\u001b[0m             \u001b[38;5;66;03m# the previous tx's ScriptPubkey is the ScriptSig\u001b[39;00m\n\u001b[0;32m--> 179\u001b[0m             script_sig\u001b[38;5;241m=\u001b[39m\u001b[43mtx_in\u001b[49m\u001b[38;5;241;43m.\u001b[39;49m\u001b[43mscript_pubkey\u001b[49m\u001b[43m(\u001b[49m\u001b[38;5;28;43mself\u001b[39;49m\u001b[38;5;241;43m.\u001b[39;49m\u001b[43mtestnet\u001b[49m\u001b[43m)\u001b[49m,\n\u001b[1;32m    180\u001b[0m             sequence\u001b[38;5;241m=\u001b[39mtx_in\u001b[38;5;241m.\u001b[39msequence\n\u001b[1;32m    181\u001b[0m         )\u001b[38;5;241m.\u001b[39mserialize()\n\u001b[1;32m    182\u001b[0m     \u001b[38;5;66;03m# Otherwise, the ScriptSig is empty\u001b[39;00m\n\u001b[1;32m    183\u001b[0m     \u001b[38;5;28;01melse\u001b[39;00m:\n\u001b[1;32m    184\u001b[0m         sig \u001b[38;5;241m+\u001b[39m\u001b[38;5;241m=\u001b[39m TxIn(\n\u001b[1;32m    185\u001b[0m             prev_tx\u001b[38;5;241m=\u001b[39mtx_in\u001b[38;5;241m.\u001b[39mprev_tx,\n\u001b[1;32m    186\u001b[0m             prev_index\u001b[38;5;241m=\u001b[39mtx_in\u001b[38;5;241m.\u001b[39mprev_index,\n\u001b[1;32m    187\u001b[0m             sequence\u001b[38;5;241m=\u001b[39mtx_in\u001b[38;5;241m.\u001b[39msequence\n\u001b[1;32m    188\u001b[0m         )\u001b[38;5;241m.\u001b[39mserialize()\n",
      "File \u001b[0;32m~/programmingbitcoin/code-ch07/tx.py:306\u001b[0m, in \u001b[0;36mTxIn.script_pubkey\u001b[0;34m(self, testnet)\u001b[0m\n\u001b[1;32m    302\u001b[0m \u001b[38;5;250m\u001b[39m\u001b[38;5;124;03m'''Get the ScriptPubKey by looking up the tx hash\u001b[39;00m\n\u001b[1;32m    303\u001b[0m \u001b[38;5;124;03mReturns a Script object\u001b[39;00m\n\u001b[1;32m    304\u001b[0m \u001b[38;5;124;03m'''\u001b[39;00m\n\u001b[1;32m    305\u001b[0m \u001b[38;5;66;03m# use self.fetch_tx to get the transaction\u001b[39;00m\n\u001b[0;32m--> 306\u001b[0m tx \u001b[38;5;241m=\u001b[39m \u001b[38;5;28;43mself\u001b[39;49m\u001b[38;5;241;43m.\u001b[39;49m\u001b[43mfetch_tx\u001b[49m\u001b[43m(\u001b[49m\u001b[43mtestnet\u001b[49m\u001b[38;5;241;43m=\u001b[39;49m\u001b[43mtestnet\u001b[49m\u001b[43m)\u001b[49m\n\u001b[1;32m    307\u001b[0m \u001b[38;5;66;03m# get the output at self.prev_index\u001b[39;00m\n\u001b[1;32m    308\u001b[0m \u001b[38;5;66;03m# return the script_pubkey property\u001b[39;00m\n\u001b[1;32m    309\u001b[0m \u001b[38;5;28;01mreturn\u001b[39;00m tx\u001b[38;5;241m.\u001b[39mtx_outs[\u001b[38;5;28mself\u001b[39m\u001b[38;5;241m.\u001b[39mprev_index]\u001b[38;5;241m.\u001b[39mscript_pubkey\n",
      "File \u001b[0;32m~/programmingbitcoin/code-ch07/tx.py:289\u001b[0m, in \u001b[0;36mTxIn.fetch_tx\u001b[0;34m(self, testnet)\u001b[0m\n\u001b[1;32m    288\u001b[0m \u001b[38;5;28;01mdef\u001b[39;00m \u001b[38;5;21mfetch_tx\u001b[39m(\u001b[38;5;28mself\u001b[39m, testnet\u001b[38;5;241m=\u001b[39m\u001b[38;5;28;01mFalse\u001b[39;00m):\n\u001b[0;32m--> 289\u001b[0m     \u001b[38;5;28;01mreturn\u001b[39;00m TxFetcher\u001b[38;5;241m.\u001b[39mfetch(\u001b[38;5;28;43mself\u001b[39;49m\u001b[38;5;241;43m.\u001b[39;49m\u001b[43mprev_tx\u001b[49m\u001b[38;5;241;43m.\u001b[39;49m\u001b[43mhex\u001b[49m(), testnet\u001b[38;5;241m=\u001b[39mtestnet)\n",
      "\u001b[0;31mAttributeError\u001b[0m: 'Tx' object has no attribute 'hex'"
     ]
    }
   ],
   "source": [
    "# Exercise 5\n",
    "\n",
    "from ecc import PrivateKey\n",
    "from helper import decode_base58, SIGHASH_ALL\n",
    "from script import p2pkh_script, Script\n",
    "from tx import TxIn, TxOut, Tx\n",
    "\n",
    "# Create 2 TxIns, 1 from the Exercise 4 and 1 from a testnet faucet\n",
    "# Creat 1 TxOut to the address above\n",
    "target_address = 'mxArJRycrcJTYmPfMWLsRjbKM6Rmupw3zo'\n",
    "change_address = 'mxArJRycrcJTYmPfMWLsRjbKM6Rmupw3zo'\n",
    "\n",
    "tx_ins = []\n",
    "tx_outs = []\n",
    "\n",
    "\n",
    "# get the private key from the exercise in Chapter 4\n",
    "pk = PrivateKey(little_endian_to_int(hash256(b\"dgoodenough@proton.mePieisepic1!\")))\n",
    "# get the prev_tx and prev_index from the transaction where you got\n",
    "# some testnet coins\n",
    "prev_tx1 = bytes.fromhex('5ad019642c23ef1d18467ce858d1a3d43993efee51b63a2101b6b610788d2010')\n",
    "prev_index1 = 1\n",
    "prev_tx2 = bytes.fromhex('3ede109258ecbb873ee47e0d4af44fc26ce57ea11b06f5206fb91f4a10154751')\n",
    "prev_index2 = 1\n",
    "# create the first transaction input with the default ScriptSig and\n",
    "# sequence\n",
    "tx_ins.append(TxIn(prev_tx1, prev_index1))\n",
    "# get the prev_tx and prev_index from the transaction in Exercise 4\n",
    "# create the second transaction input with the default ScriptSig and\n",
    "# sequence\n",
    "tx_ins.append(TxIn(prev_tx2, prev_index2))\n",
    "\n",
    "# set the fee to some reasonable amount\n",
    "# target amount should be the sum of the inputs - fee\n",
    "fee = 2000\n",
    "\n",
    "target_satoshis = int((.01558801 + .01541305) * 1e8) - fee\n",
    "\n",
    "# create a transaction output for the amount and address\n",
    "tx_outs.append(TxOut(target_satoshis, p2pkh_script(decode_base58(target_address))))\n",
    "\n",
    "tx = Tx(1, tx_ins, tx_outs, 0, testnet=True)\n",
    "\n",
    "for i, tx_in in enumerate(tx_ins):\n",
    "    tx.sign_input(i, pk)\n",
    "\n",
    "print(tx.verify())\n",
    "print(tx)\n",
    "print(tx.serialize().hex())\n",
    "print(\"Fee: \", tx.fee())\n",
    "\n",
    "# sign the first input using the private key\n",
    "# sign the second input using the private key \n",
    "# print the transaction's serialization in hex\n",
    "# broadcast at http://testnet.blockchain.info/pushtx"
   ]
  },
  {
   "cell_type": "code",
   "execution_count": null,
   "metadata": {},
   "outputs": [],
   "source": []
  }
 ],
 "metadata": {
  "kernelspec": {
   "display_name": "Python 3 (ipykernel)",
   "language": "python",
   "name": "python3"
  },
  "language_info": {
   "codemirror_mode": {
    "name": "ipython",
    "version": 3
   },
   "file_extension": ".py",
   "mimetype": "text/x-python",
   "name": "python",
   "nbconvert_exporter": "python",
   "pygments_lexer": "ipython3",
   "version": "3.10.6"
  }
 },
 "nbformat": 4,
 "nbformat_minor": 2
}
